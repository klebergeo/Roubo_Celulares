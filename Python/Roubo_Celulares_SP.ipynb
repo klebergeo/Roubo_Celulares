{
 "metadata": {
  "language_info": {
   "codemirror_mode": {
    "name": "ipython",
    "version": 3
   },
   "file_extension": ".py",
   "mimetype": "text/x-python",
   "name": "python",
   "nbconvert_exporter": "python",
   "pygments_lexer": "ipython3",
   "version": "3.9.4"
  },
  "orig_nbformat": 2,
  "kernelspec": {
   "name": "python3",
   "display_name": "Python 3.9.4 64-bit"
  },
  "metadata": {
   "interpreter": {
    "hash": "b2a6f09527545e370935e82da67d9200a6ba8ae5f29d2a729dc4524a539d679f"
   }
  },
  "interpreter": {
   "hash": "b2a6f09527545e370935e82da67d9200a6ba8ae5f29d2a729dc4524a539d679f"
  }
 },
 "nbformat": 4,
 "nbformat_minor": 2,
 "cells": [
  {
   "cell_type": "code",
   "execution_count": 38,
   "metadata": {},
   "outputs": [],
   "source": [
    "import geopandas as gpd\n",
    "import matplotlib.pyplot as plt\n",
    "from shapely.geometry import Point, LinearRing, Polygon\n",
    "import pandas as pd"
   ]
  },
  {
   "cell_type": "code",
   "execution_count": 39,
   "metadata": {},
   "outputs": [],
   "source": [
    " #abrindo o shapefile\n",
    " mun_sp_shp = gpd.read_file('C:/Users/T-Gamer/Desktop/Kleber/Geoprocessamento/Bases/Limites_Divisas/SP/sp_municipios/35MUE250GC_SIR.shp') "
   ]
  },
  {
   "cell_type": "code",
   "execution_count": 70,
   "metadata": {},
   "outputs": [],
   "source": [
    "#filtrando a região metropolitana de São Paulo\n",
    "gdf_sp = mun_sp_shp[mun_sp_shp['NM_MUNICIP'].isin(['ARUJÁ','BARUERI','BIRITIBA-MIRIM','CAIEIRAS','CAJAMAR','CARAPICUÍBA','COTIA','DIADEMA','EMBU','EMBU-GUAÇU','FERRAZ DE VASCONCELOS','FRANCISCO MORATO','FRANCO DA ROCHA','GUARAREMA','GUARULHOS','ITAPECERICA DA SERRA','ITAPEVI','ITAQUAQUECETUBA','JANDIRA','JUQUITIBA','MAIRIPORÃ','MAUÁ','MOGI DAS CRUZES','OSASCO','PIRAPORA DO BOM JESUS','POÁ','RIBEIRÃO PIRES','RIO GRANDE DA SERRA','SALESÓPOLIS','SANTA ISABEL','SANTANA DE PARNAÍBA','SANTO ANDRÉ','SÃO BERNARDO DO CAMPO','SÃO CAETANO DO SUL','SÃO LOURENÇO DA SERRA','SÃO PAULO','SUZANO','TABOÃO DA SERRA','VARGEM GRANDE PAULISTA'])]"
   ]
  },
  {
   "cell_type": "code",
   "execution_count": 18,
   "metadata": {},
   "outputs": [],
   "source": [
    "#abrindo a base com os dados de roubos de celulares\n",
    "filename = 'C:/Users/T-Gamer/Documents/MeusProjetos/Roubo_Celulares/Python/Base/dados_roubo_celular_sp_2020.xlsx'\n",
    "df_roubos = pd.read_excel(filename)"
   ]
  },
  {
   "cell_type": "code",
   "execution_count": 19,
   "metadata": {},
   "outputs": [],
   "source": [
    "#excluindo dados missing dos campos de latitude e longitude\n",
    "df_roubos = df_roubos.dropna(subset=['LATITUDE', 'LONGITUDE'])"
   ]
  },
  {
   "cell_type": "code",
   "execution_count": 31,
   "metadata": {},
   "outputs": [],
   "source": [
    "#adicionando a coluna geometry para transformar o df em gdf\n",
    "df_roubos['geometry'] = None\n",
    "for index, row in df_roubos.iterrows():\n",
    "    df_roubos.loc[index, 'geometry'] = Point(row.LONGITUDE, row.LATITUDE)"
   ]
  },
  {
   "cell_type": "code",
   "execution_count": 35,
   "metadata": {},
   "outputs": [],
   "source": [
    "#transformando o df em gdf\n",
    "gdf_roubos = gpd.GeoDataFrame(df_roubos, geometry = 'geometry')"
   ]
  },
  {
   "cell_type": "code",
   "execution_count": 65,
   "metadata": {},
   "outputs": [],
   "source": [
    "#filtrando a região metropolitana de São Paulo\n",
    "gdf_roubos_rmsp = gdf_roubos[gdf_roubos['CIDADE'].isin(['ARUJA','BARUERI','BIRITIBA-MIRIM','CAIEIRAS','CAJAMAR','CARAPICUIBA','COTIA','DIADEMA','EMBU','EMBU-GUAÇU','FERRAZ DE VAZCONCELOS','FRANCISCO MORATO','FRANCO DA ROCHA','GUARAREMA','GUARULHOS','ITAPECERICA DA SERRA','ITAPEVI','ITAQUAQUECETUBA','JANDIRA','JUQUITIBA','MAIRIPORA','MAUA','MOGI DAS CRUZES','OSASCO','PIRAPORA DO BOM JESUS','POA','RIBEIRAO PIRES','RIO GRANDE DA SERRA','SALESOPOLIS','SANTA ISABEL','SANTANA DO PARNAIBA','SANTO ANDRE','S.BERNARDO DO CAMPO','S.CAETANO DO SUL','S.LOURENÇO DA SERRA','S.PAULO','SUZANO','TABOAO DA SERRA','VARGEM GRANDE PAULISTA'])]"
   ]
  }
 ]
}